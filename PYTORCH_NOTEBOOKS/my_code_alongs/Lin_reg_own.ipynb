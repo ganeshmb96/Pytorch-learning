{
 "cells": [
  {
   "cell_type": "code",
   "execution_count": 3,
   "metadata": {},
   "outputs": [
    {
     "name": "stderr",
     "output_type": "stream",
     "text": [
      "UsageError: Line magic function `%maplotlib` not found.\n"
     ]
    }
   ],
   "source": [
    "import torch\n",
    "import numpy as np\n",
    "import matplotlib.pyplot as plt\n",
    "%maplotlib inline"
   ]
  },
  {
   "cell_type": "code",
   "execution_count": 2,
   "metadata": {},
   "outputs": [],
   "source": [
    "import torch.nn as nn"
   ]
  },
  {
   "cell_type": "code",
   "execution_count": 4,
   "metadata": {},
   "outputs": [
    {
     "name": "stdout",
     "output_type": "stream",
     "text": [
      "tensor([[ 1.],\n",
      "        [ 2.],\n",
      "        [ 3.],\n",
      "        [ 4.],\n",
      "        [ 5.],\n",
      "        [ 6.],\n",
      "        [ 7.],\n",
      "        [ 8.],\n",
      "        [ 9.],\n",
      "        [10.],\n",
      "        [11.],\n",
      "        [12.],\n",
      "        [13.],\n",
      "        [14.],\n",
      "        [15.],\n",
      "        [16.],\n",
      "        [17.],\n",
      "        [18.],\n",
      "        [19.],\n",
      "        [20.],\n",
      "        [21.],\n",
      "        [22.],\n",
      "        [23.],\n",
      "        [24.],\n",
      "        [25.],\n",
      "        [26.],\n",
      "        [27.],\n",
      "        [28.],\n",
      "        [29.],\n",
      "        [30.],\n",
      "        [31.],\n",
      "        [32.],\n",
      "        [33.],\n",
      "        [34.],\n",
      "        [35.],\n",
      "        [36.],\n",
      "        [37.],\n",
      "        [38.],\n",
      "        [39.],\n",
      "        [40.],\n",
      "        [41.],\n",
      "        [42.],\n",
      "        [43.],\n",
      "        [44.],\n",
      "        [45.],\n",
      "        [46.],\n",
      "        [47.],\n",
      "        [48.],\n",
      "        [49.],\n",
      "        [50.]])\n"
     ]
    }
   ],
   "source": [
    "X = torch.linspace(1,50,50).reshape(-1,1)\n",
    "print(X)"
   ]
  },
  {
   "cell_type": "code",
   "execution_count": 5,
   "metadata": {},
   "outputs": [
    {
     "name": "stdout",
     "output_type": "stream",
     "text": [
      "tensor([[ 2.],\n",
      "        [ 7.],\n",
      "        [ 2.],\n",
      "        [ 6.],\n",
      "        [ 2.],\n",
      "        [-4.],\n",
      "        [ 2.],\n",
      "        [-5.],\n",
      "        [ 4.],\n",
      "        [ 1.],\n",
      "        [ 2.],\n",
      "        [ 3.],\n",
      "        [ 1.],\n",
      "        [-8.],\n",
      "        [ 5.],\n",
      "        [ 5.],\n",
      "        [-6.],\n",
      "        [ 0.],\n",
      "        [-7.],\n",
      "        [-8.],\n",
      "        [-3.],\n",
      "        [-1.],\n",
      "        [ 2.],\n",
      "        [-6.],\n",
      "        [-3.],\n",
      "        [ 3.],\n",
      "        [ 2.],\n",
      "        [ 3.],\n",
      "        [ 4.],\n",
      "        [ 5.],\n",
      "        [ 1.],\n",
      "        [ 7.],\n",
      "        [ 6.],\n",
      "        [-1.],\n",
      "        [-6.],\n",
      "        [-5.],\n",
      "        [-3.],\n",
      "        [ 7.],\n",
      "        [ 0.],\n",
      "        [ 8.],\n",
      "        [-1.],\n",
      "        [-2.],\n",
      "        [ 2.],\n",
      "        [-8.],\n",
      "        [-1.],\n",
      "        [ 6.],\n",
      "        [-8.],\n",
      "        [-3.],\n",
      "        [-7.],\n",
      "        [-2.]])\n"
     ]
    }
   ],
   "source": [
    "torch.manual_seed(71)\n",
    "e = torch.randint(-8,9,(50,1),dtype=torch.float)\n",
    "print(e)"
   ]
  },
  {
   "cell_type": "code",
   "execution_count": 6,
   "metadata": {},
   "outputs": [
    {
     "data": {
      "text/plain": [
       "torch.Size([50, 1])"
      ]
     },
     "execution_count": 6,
     "metadata": {},
     "output_type": "execute_result"
    }
   ],
   "source": [
    "y = 2*X + 1 + e\n",
    "y.shape"
   ]
  },
  {
   "cell_type": "code",
   "execution_count": 7,
   "metadata": {},
   "outputs": [
    {
     "data": {
      "text/plain": [
       "<matplotlib.collections.PathCollection at 0x10af2e550>"
      ]
     },
     "execution_count": 7,
     "metadata": {},
     "output_type": "execute_result"
    },
    {
     "data": {
      "image/png": "[encoded data removed]",
      "text/plain": [
       "<Figure size 432x288 with 1 Axes>"
      ]
     },
     "metadata": {
      "needs_background": "light"
     },
     "output_type": "display_data"
    }
   ],
   "source": [
    "plt.scatter(X.numpy(), y.numpy())"
   ]
  },
  {
   "cell_type": "code",
   "execution_count": 8,
   "metadata": {},
   "outputs": [
    {
     "name": "stdout",
     "output_type": "stream",
     "text": [
      "Parameter containing:\n",
      "tensor([[0.1060]], requires_grad=True)\n",
      "Parameter containing:\n",
      "tensor([0.9638], requires_grad=True)\n"
     ]
    }
   ],
   "source": [
    "torch.manual_seed(59)\n",
    "model = nn.Linear(in_features=1, out_features=1)\n",
    "print(model.weight)\n",
    "print(model.bias)"
   ]
  },
  {
   "cell_type": "code",
   "execution_count": 9,
   "metadata": {},
   "outputs": [],
   "source": [
    "class Model(nn.Module):\n",
    "\n",
    "    def __init__(self, in_features, out_features):\n",
    "        super().__init__()\n",
    "\n",
    "        self.linear = nn.Linear(in_features, out_features)\n",
    "\n",
    "    def forward(self, x):\n",
    "        y_pred = self.linear(x)\n",
    "        return y_pred"
   ]
  },
  {
   "cell_type": "code",
   "execution_count": 10,
   "metadata": {},
   "outputs": [
    {
     "name": "stdout",
     "output_type": "stream",
     "text": [
      "Parameter containing:\n",
      "tensor([[0.1060]], requires_grad=True)\n",
      "Parameter containing:\n",
      "tensor([0.9638], requires_grad=True)\n"
     ]
    }
   ],
   "source": [
    "#Instatiate the model \n",
    "torch.manual_seed(59)\n",
    "\n",
    "model = Model(1, 1)\n",
    "print(model.linear.weight)\n",
    "print(model.linear.bias)"
   ]
  },
  {
   "cell_type": "code",
   "execution_count": 11,
   "metadata": {},
   "outputs": [
    {
     "name": "stdout",
     "output_type": "stream",
     "text": [
      "linear.weight \t 0.10597813129425049\n",
      "linear.bias \t 0.9637961387634277\n"
     ]
    }
   ],
   "source": [
    "for name, param in model.named_parameters():\n",
    "    print(name, '\\t', param.item())"
   ]
  },
  {
   "cell_type": "code",
   "execution_count": 12,
   "metadata": {},
   "outputs": [
    {
     "name": "stdout",
     "output_type": "stream",
     "text": [
      "tensor([1.1758], grad_fn=<AddBackward0>)\n"
     ]
    }
   ],
   "source": [
    "#Trying to test the above equation by entering our own value\n",
    "x = torch.tensor([2.0])\n",
    "print(model.forward(x))"
   ]
  },
  {
   "cell_type": "code",
   "execution_count": 13,
   "metadata": {},
   "outputs": [
    {
     "data": {
      "text/plain": [
       "array([ 0.        ,  1.02040816,  2.04081633,  3.06122449,  4.08163265,\n",
       "        5.10204082,  6.12244898,  7.14285714,  8.16326531,  9.18367347,\n",
       "       10.20408163, 11.2244898 , 12.24489796, 13.26530612, 14.28571429,\n",
       "       15.30612245, 16.32653061, 17.34693878, 18.36734694, 19.3877551 ,\n",
       "       20.40816327, 21.42857143, 22.44897959, 23.46938776, 24.48979592,\n",
       "       25.51020408, 26.53061224, 27.55102041, 28.57142857, 29.59183673,\n",
       "       30.6122449 , 31.63265306, 32.65306122, 33.67346939, 34.69387755,\n",
       "       35.71428571, 36.73469388, 37.75510204, 38.7755102 , 39.79591837,\n",
       "       40.81632653, 41.83673469, 42.85714286, 43.87755102, 44.89795918,\n",
       "       45.91836735, 46.93877551, 47.95918367, 48.97959184, 50.        ])"
      ]
     },
     "execution_count": 13,
     "metadata": {},
     "output_type": "execute_result"
    }
   ],
   "source": [
    "x1 = np.linspace(0.0, 50.0, 50)\n",
    "x1"
   ]
  },
  {
   "cell_type": "code",
   "execution_count": 14,
   "metadata": {},
   "outputs": [
    {
     "name": "stdout",
     "output_type": "stream",
     "text": [
      "[0.9637     1.07176122 1.17982245 1.28788367 1.3959449  1.50400612\n",
      " 1.61206735 1.72012857 1.8281898  1.93625102 2.04431224 2.15237347\n",
      " 2.26043469 2.36849592 2.47655714 2.58461837 2.69267959 2.80074082\n",
      " 2.90880204 3.01686327 3.12492449 3.23298571 3.34104694 3.44910816\n",
      " 3.55716939 3.66523061 3.77329184 3.88135306 3.98941429 4.09747551\n",
      " 4.20553673 4.31359796 4.42165918 4.52972041 4.63778163 4.74584286\n",
      " 4.85390408 4.96196531 5.07002653 5.17808776 5.28614898 5.3942102\n",
      " 5.50227143 5.61033265 5.71839388 5.8264551  5.93451633 6.04257755\n",
      " 6.15063878 6.2587    ]\n"
     ]
    }
   ],
   "source": [
    "w1 = 0.1059\n",
    "b1 = 0.9637\n",
    "\n",
    "y1 = w1*x1 + b1\n",
    "print(y1)"
   ]
  },
  {
   "cell_type": "code",
   "execution_count": 15,
   "metadata": {},
   "outputs": [
    {
     "data": {
      "text/plain": [
       "[<matplotlib.lines.Line2D at 0x10b0404c0>]"
      ]
     },
     "execution_count": 15,
     "metadata": {},
     "output_type": "execute_result"
    },
    {
     "data": {
      "image/png": "[encoded data removed]",
      "text/plain": [
       "<Figure size 432x288 with 1 Axes>"
      ]
     },
     "metadata": {
      "needs_background": "light"
     },
     "output_type": "display_data"
    }
   ],
   "source": [
    "plt.scatter(X.numpy(), y.numpy())\n",
    "plt.plot(x1, y1, 'r')"
   ]
  },
  {
   "cell_type": "code",
   "execution_count": 17,
   "metadata": {},
   "outputs": [
    {
     "name": "stdout",
     "output_type": "stream",
     "text": [
      "epoch 1 loss:3336.060302734375  weight:0.30927515029907227 bias:1.0654445886611938\n",
      "epoch 2 loss:3285.679443359375  weight:0.510539174079895 bias:1.1660765409469604\n",
      "epoch 3 loss:3236.301513671875  weight:0.7097905278205872 bias:1.265702247619629\n",
      "epoch 4 loss:3187.905517578125  weight:0.9070494174957275 bias:1.3643317222595215\n",
      "epoch 5 loss:3140.47314453125  weight:1.1023356914520264 bias:1.461974859237671\n",
      "epoch 6 loss:3093.984375  weight:1.2956690788269043 bias:1.5586415529251099\n",
      "epoch 7 loss:3048.4208984375  weight:1.4870691299438477 bias:1.6543415784835815\n",
      "epoch 8 loss:3003.76416015625  weight:1.6765551567077637 bias:1.7490845918655396\n",
      "epoch 9 loss:2959.995849609375  weight:1.86414635181427 bias:1.8428802490234375\n",
      "epoch 10 loss:2917.0986328125  weight:2.0498616695404053 bias:1.9357378482818604\n",
      "epoch 11 loss:2875.055419921875  weight:2.233719825744629 bias:2.0276670455932617\n",
      "epoch 12 loss:2833.848388671875  weight:2.4157395362854004 bias:2.1186769008636475\n",
      "epoch 13 loss:2793.461669921875  weight:2.5959389209747314 bias:2.2087764739990234\n",
      "epoch 14 loss:2753.87841796875  weight:2.774336338043213 bias:2.2979750633239746\n",
      "epoch 15 loss:2715.0830078125  weight:2.9509496688842773 bias:2.386281728744507\n",
      "epoch 16 loss:2677.06005859375  weight:3.1257970333099365 bias:2.473705291748047\n",
      "epoch 17 loss:2639.792724609375  weight:3.298895835876465 bias:2.5602545738220215\n",
      "epoch 18 loss:2603.26806640625  weight:3.470263719558716 bias:2.6459383964538574\n",
      "epoch 19 loss:2567.469482421875  weight:3.6399178504943848 bias:2.7307653427124023\n",
      "epoch 20 loss:2532.383544921875  weight:3.807875394821167 bias:2.814744234085083\n",
      "epoch 21 loss:2497.995849609375  weight:3.974153518676758 bias:2.897883176803589\n",
      "epoch 22 loss:2464.29248046875  weight:4.138768672943115 bias:2.9801907539367676\n",
      "epoch 23 loss:2431.259765625  weight:4.3017377853393555 bias:3.0616753101348877\n",
      "epoch 24 loss:2398.885009765625  weight:4.463077068328857 bias:3.1423449516296387\n",
      "epoch 25 loss:2367.153564453125  weight:4.622803211212158 bias:3.222208023071289\n",
      "epoch 26 loss:2336.053955078125  weight:4.7809319496154785 bias:3.301272392272949\n",
      "epoch 27 loss:2305.573486328125  weight:4.937479496002197 bias:3.3795461654663086\n",
      "epoch 28 loss:2275.69921875  weight:5.092461585998535 bias:3.4570372104644775\n",
      "epoch 29 loss:2246.41943359375  weight:5.245893955230713 bias:3.5337533950805664\n",
      "epoch 30 loss:2217.722412109375  weight:5.397791862487793 bias:3.6097023487091064\n",
      "epoch 31 loss:2189.5966796875  weight:5.548170566558838 bias:3.684891700744629\n",
      "epoch 32 loss:2162.030517578125  weight:5.697045803070068 bias:3.759329319000244\n",
      "epoch 33 loss:2135.012451171875  weight:5.844432353973389 bias:3.8330225944519043\n",
      "epoch 34 loss:2108.53271484375  weight:5.990345001220703 bias:3.9059789180755615\n",
      "epoch 35 loss:2082.57958984375  weight:6.134798526763916 bias:3.978205680847168\n",
      "epoch 36 loss:2057.14306640625  weight:6.277807235717773 bias:4.049710273742676\n",
      "epoch 37 loss:2032.212646484375  weight:6.41938591003418 bias:4.120499610900879\n",
      "epoch 38 loss:2007.7784423828125  weight:6.559548854827881 bias:4.19058084487915\n",
      "epoch 39 loss:1983.830322265625  weight:6.698310375213623 bias:4.2599616050720215\n",
      "epoch 40 loss:1960.35888671875  weight:6.835683822631836 bias:4.328648567199707\n",
      "epoch 41 loss:1937.354736328125  weight:6.971683979034424 bias:4.396648406982422\n",
      "epoch 42 loss:1914.807861328125  weight:7.106323719024658 bias:4.463968276977539\n",
      "epoch 43 loss:1892.7099609375  weight:7.239617347717285 bias:4.530614852905273\n",
      "epoch 44 loss:1871.0518798828125  weight:7.371577739715576 bias:4.596595287322998\n",
      "epoch 45 loss:1849.8248291015625  weight:7.502218723297119 bias:4.6619157791137695\n",
      "epoch 46 loss:1829.02001953125  weight:7.6315531730651855 bias:4.726583003997803\n",
      "epoch 47 loss:1808.62939453125  weight:7.759594440460205 bias:4.7906036376953125\n",
      "epoch 48 loss:1788.6444091796875  weight:7.886355400085449 bias:4.8539838790893555\n",
      "epoch 49 loss:1769.056884765625  weight:8.011848449707031 bias:4.9167304039001465\n",
      "epoch 50 loss:1749.8597412109375  weight:8.136086463928223 bias:4.978849411010742\n"
     ]
    },
    {
     "name": "stderr",
     "output_type": "stream",
     "text": [
      "/usr/local/lib/python3.9/site-packages/torch/nn/modules/loss.py:528: UserWarning: Using a target size (torch.Size([50, 1])) that is different to the input size (torch.Size([1])). This will likely lead to incorrect results due to broadcasting. Please ensure they have the same size.\n",
      "  return F.mse_loss(input, target, reduction=self.reduction)\n"
     ]
    }
   ],
   "source": [
    "#utlising the loss function to improve our model\n",
    "criterion = nn.MSELoss()\n",
    "\n",
    "optimizer = torch.optim.SGD(model.parameters(), lr=0.001)\n",
    "\n",
    "#Training the model\n",
    "#Choosing the epoch\n",
    "epochs  = 50\n",
    "losses = []\n",
    "\n",
    "for i in range(epochs):\n",
    "    i += 1\n",
    "\n",
    "    #Predicting on the forward pass\n",
    "    y_pred = model.forward(x)\n",
    "\n",
    "    #Calculate the loss (ERROR)\n",
    "    loss = criterion(y_pred, y)\n",
    "\n",
    "    #Record that error\n",
    "    losses.append(loss)\n",
    "\n",
    "    print(f\"epoch {i} loss:{loss.item()}  weight:{model.linear.weight.item()} bias:{model.linear.bias.item()}\")\n",
    "\n",
    "    #Resetting the gradients to avoid accumulation of gradients\n",
    "    optimizer.zero_grad()\n",
    "\n",
    "    #Backpropagation\n",
    "    loss.backward()\n",
    "\n",
    "    #Updating the hyperparameters\n",
    "    optimizer.step()\n"
   ]
  },
  {
   "cell_type": "code",
   "execution_count": 31,
   "metadata": {},
   "outputs": [],
   "source": [
    "np_losses = [x.detach().numpy() for x in losses]"
   ]
  },
  {
   "cell_type": "code",
   "execution_count": 32,
   "metadata": {},
   "outputs": [
    {
     "data": {
      "text/plain": [
       "Text(0.5, 0, 'Epoch')"
      ]
     },
     "execution_count": 32,
     "metadata": {},
     "output_type": "execute_result"
    },
    {
     "data": {
      "image/png": "[encoded data removed]",
      "text/plain": [
       "<Figure size 432x288 with 1 Axes>"
      ]
     },
     "metadata": {
      "needs_background": "light"
     },
     "output_type": "display_data"
    }
   ],
   "source": [
    "plt.plot(range(epochs), np_losses)\n",
    "plt.ylabel('MSE LOSS')\n",
    "plt.xlabel('Epoch')"
   ]
  },
  {
   "cell_type": "code",
   "execution_count": 34,
   "metadata": {},
   "outputs": [],
   "source": [
    "#Utilizing the finalised weight and bias\n",
    "x = np.linspace(0.0, 50.0, 50)\n",
    "\n",
    "current_weight = model.linear.weight.item()\n",
    "current_bias = model.linear.bias.item()\n",
    "\n",
    "predicted_y = current_weight*x + current_bias"
   ]
  },
  {
   "cell_type": "code",
   "execution_count": 35,
   "metadata": {},
   "outputs": [
    {
     "name": "stdout",
     "output_type": "stream",
     "text": [
      "[ 0.          1.02040816  2.04081633  3.06122449  4.08163265  5.10204082\n",
      "  6.12244898  7.14285714  8.16326531  9.18367347 10.20408163 11.2244898\n",
      " 12.24489796 13.26530612 14.28571429 15.30612245 16.32653061 17.34693878\n",
      " 18.36734694 19.3877551  20.40816327 21.42857143 22.44897959 23.46938776\n",
      " 24.48979592 25.51020408 26.53061224 27.55102041 28.57142857 29.59183673\n",
      " 30.6122449  31.63265306 32.65306122 33.67346939 34.69387755 35.71428571\n",
      " 36.73469388 37.75510204 38.7755102  39.79591837 40.81632653 41.83673469\n",
      " 42.85714286 43.87755102 44.89795918 45.91836735 46.93877551 47.95918367\n",
      " 48.97959184 50.        ]\n",
      "[  5.04034758  13.46798308  21.89561858  30.32325409  38.75088959\n",
      "  47.1785251   55.6061606   64.03379611  72.46143161  80.88906711\n",
      "  89.31670262  97.74433812 106.17197363 114.59960913 123.02724464\n",
      " 131.45488014 139.88251564 148.31015115 156.73778665 165.16542216\n",
      " 173.59305766 182.02069317 190.44832867 198.87596417 207.30359968\n",
      " 215.73123518 224.15887069 232.58650619 241.0141417  249.4417772\n",
      " 257.8694127  266.29704821 274.72468371 283.15231922 291.57995472\n",
      " 300.00759023 308.43522573 316.86286123 325.29049674 333.71813224\n",
      " 342.14576775 350.57340325 359.00103876 367.42867426 375.85630976\n",
      " 384.28394527 392.71158077 401.13921628 409.56685178 417.99448729]\n"
     ]
    }
   ],
   "source": [
    "print(x, predicted_y, sep=\"\\n\")"
   ]
  },
  {
   "cell_type": "code",
   "execution_count": 36,
   "metadata": {},
   "outputs": [
    {
     "data": {
      "text/plain": [
       "[<matplotlib.lines.Line2D at 0x10b3c9c40>]"
      ]
     },
     "execution_count": 36,
     "metadata": {},
     "output_type": "execute_result"
    },
    {
     "data": {
      "image/png": "[encoded data removed]",
      "text/plain": [
       "<Figure size 432x288 with 1 Axes>"
      ]
     },
     "metadata": {
      "needs_background": "light"
     },
     "output_type": "display_data"
    }
   ],
   "source": [
    "plt.scatter(X.numpy(), y.numpy())\n",
    "plt.plot(x, predicted_y, 'r')"
   ]
  },
  {
   "cell_type": "code",
   "execution_count": null,
   "metadata": {},
   "outputs": [],
   "source": []
  }
 ],
 "metadata": {
  "interpreter": {
   "hash": "36962f94fbf9a0621a6206f59e51d78aefec688503928994be41b37571e23db2"
  },
  "kernelspec": {
   "display_name": "Python 3.9.6 ('pytorch_venv': venv)",
   "language": "python",
   "name": "python3"
  },
  "language_info": {
   "codemirror_mode": {
    "name": "ipython",
    "version": 3
   },
   "file_extension": ".py",
   "mimetype": "text/x-python",
   "name": "python",
   "nbconvert_exporter": "python",
   "pygments_lexer": "ipython3",
   "version": "3.9.6"
  },
  "orig_nbformat": 4
 },
 "nbformat": 4,
 "nbformat_minor": 2
}
