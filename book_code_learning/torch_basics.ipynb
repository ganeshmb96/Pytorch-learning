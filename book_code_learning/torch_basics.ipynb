{
 "cells": [
  {
   "cell_type": "code",
   "execution_count": 2,
   "metadata": {},
   "outputs": [],
   "source": [
    "#Standard Imports\n",
    "import torch\n",
    "import numpy as np\n",
    "np.set_printoptions(precision=3)"
   ]
  },
  {
   "cell_type": "code",
   "execution_count": 3,
   "metadata": {},
   "outputs": [
    {
     "name": "stdout",
     "output_type": "stream",
     "text": [
      "tensor([1, 2, 3])\n",
      "tensor([4, 5, 6], dtype=torch.int32)\n"
     ]
    }
   ],
   "source": [
    "#Defining the arrays\n",
    "a = [1, 2, 3]\n",
    "b = np.array([4, 5, 6], dtype=np.int32)\n",
    "\n",
    "t_a = torch.tensor(a)\n",
    "t_b = torch.from_numpy(b)\n",
    "\n",
    "print(t_a, t_b, sep=\"\\n\")"
   ]
  },
  {
   "cell_type": "code",
   "execution_count": 4,
   "metadata": {},
   "outputs": [
    {
     "data": {
      "text/plain": [
       "(tensor([[1., 1., 1.],\n",
       "         [1., 1., 1.]]),\n",
       " torch.Size([2, 3]))"
      ]
     },
     "execution_count": 4,
     "metadata": {},
     "output_type": "execute_result"
    }
   ],
   "source": [
    "#Defining a torch tensor with scalar value 1\n",
    "tt_one = torch.ones([2, 3])\n",
    "tt_one, tt_one.shape"
   ]
  },
  {
   "cell_type": "code",
   "execution_count": 5,
   "metadata": {},
   "outputs": [
    {
     "data": {
      "text/plain": [
       "tensor([[0.7911, 0.9835, 0.7266],\n",
       "        [0.2937, 0.1953, 0.0394]])"
      ]
     },
     "execution_count": 5,
     "metadata": {},
     "output_type": "execute_result"
    }
   ],
   "source": [
    "#Creating a tensor filled with random values\n",
    "tt_rand = torch.rand([2, 3])\n",
    "tt_rand"
   ]
  },
  {
   "cell_type": "code",
   "execution_count": 6,
   "metadata": {},
   "outputs": [
    {
     "name": "stdout",
     "output_type": "stream",
     "text": [
      "torch.int64\n"
     ]
    }
   ],
   "source": [
    "#Casting an existing torch tensor to a specific type\n",
    "t_a = t_a.to(torch.int64)\n",
    "print(t_a.dtype)"
   ]
  },
  {
   "cell_type": "code",
   "execution_count": 7,
   "metadata": {},
   "outputs": [
    {
     "name": "stdout",
     "output_type": "stream",
     "text": [
      "torch.Size([3, 5]) --> torch.Size([5, 3])\n",
      "tensor([[0.6733, 0.3155, 0.9995, 0.8220, 0.4047],\n",
      "        [0.7892, 0.2716, 0.6656, 0.2805, 0.5206],\n",
      "        [0.1423, 0.1473, 0.1546, 0.7426, 0.9827]]) --> tensor([[0.6733, 0.7892, 0.1423],\n",
      "        [0.3155, 0.2716, 0.1473],\n",
      "        [0.9995, 0.6656, 0.1546],\n",
      "        [0.8220, 0.2805, 0.7426],\n",
      "        [0.4047, 0.5206, 0.9827]])\n"
     ]
    }
   ],
   "source": [
    "# Performing some of the most common operations done on tensors\n",
    "\n",
    "#Transposing a tensor\n",
    "t = torch.rand([3, 5])\n",
    "t_transp = torch.transpose(t, 0, 1)\n",
    "print(t.shape, '-->', t_transp.shape)\n",
    "print(t, '-->', t_transp)"
   ]
  },
  {
   "cell_type": "code",
   "execution_count": 8,
   "metadata": {},
   "outputs": [
    {
     "name": "stdout",
     "output_type": "stream",
     "text": [
      "torch.Size([30]) torch.Size([5, 6])\n",
      "tensor([0., 0., 0., 0., 0., 0., 0., 0., 0., 0., 0., 0., 0., 0., 0., 0., 0., 0., 0., 0., 0., 0., 0., 0.,\n",
      "        0., 0., 0., 0., 0., 0.])\n",
      "tensor([[0., 0., 0., 0., 0., 0.],\n",
      "        [0., 0., 0., 0., 0., 0.],\n",
      "        [0., 0., 0., 0., 0., 0.],\n",
      "        [0., 0., 0., 0., 0., 0.],\n",
      "        [0., 0., 0., 0., 0., 0.]])\n"
     ]
    }
   ],
   "source": [
    "#Reshaping a tensor from 1D to 2D array\n",
    "t = torch.zeros(30)\n",
    "t_res = t.reshape([5, 6])\n",
    "print(t.shape , t_res.shape)\n",
    "print(t, t_res, sep=\"\\n\")"
   ]
  },
  {
   "cell_type": "code",
   "execution_count": 9,
   "metadata": {},
   "outputs": [
    {
     "name": "stdout",
     "output_type": "stream",
     "text": [
      "torch.Size([1, 2, 1, 4, 1]) torch.Size([1, 2, 4, 1])\n"
     ]
    }
   ],
   "source": [
    "#Removing the unecessary dimensions from a tensor\n",
    "t = torch.zeros([1, 2, 1, 4, 1])\n",
    "t_sqz = torch.squeeze(t, 2)\n",
    "print(t.shape, t_sqz.shape)"
   ]
  },
  {
   "cell_type": "code",
   "execution_count": 11,
   "metadata": {},
   "outputs": [
    {
     "data": {
      "text/plain": [
       "tensor([[[0.0786, 0.5541, 0.7443, 0.1542],\n",
       "         [0.4332, 0.9044, 0.9173, 0.7551],\n",
       "         [0.0984, 0.8570, 0.7639, 0.1903]],\n",
       "\n",
       "        [[0.8543, 0.5718, 0.2128, 0.8415],\n",
       "         [0.3237, 0.7517, 0.7683, 0.0341],\n",
       "         [0.0426, 0.3733, 0.7473, 0.8947]],\n",
       "\n",
       "        [[0.5395, 0.0790, 0.5480, 0.2478],\n",
       "         [0.5372, 0.0417, 0.6245, 0.4719],\n",
       "         [0.3266, 0.0978, 0.0893, 0.1521]],\n",
       "\n",
       "        [[0.1019, 0.1411, 0.5975, 0.7194],\n",
       "         [0.9836, 0.6934, 0.3828, 0.9730],\n",
       "         [0.4449, 0.9091, 0.6667, 0.4499]],\n",
       "\n",
       "        [[0.5024, 0.1452, 0.2771, 0.9483],\n",
       "         [0.0761, 0.2560, 0.8892, 0.2781],\n",
       "         [0.1313, 0.9834, 0.2568, 0.6795]]])"
      ]
     },
     "execution_count": 11,
     "metadata": {},
     "output_type": "execute_result"
    }
   ],
   "source": [
    "#Creating a Rank 3 tensor specifies the number of matricies as the first arg and the shape of each mat in the next 2 args\n",
    "test = torch.rand([5, 3, 4])\n",
    "test"
   ]
  },
  {
   "cell_type": "markdown",
   "metadata": {},
   "source": [
    "APPLYING MATHEMATICAL OPERATIONS TO TENSORS"
   ]
  },
  {
   "cell_type": "code",
   "execution_count": 12,
   "metadata": {},
   "outputs": [
    {
     "name": "stdout",
     "output_type": "stream",
     "text": [
      "tensor([[ 0.4426, -0.3114],\n",
      "        [ 0.0660, -0.5970],\n",
      "        [ 1.1249,  0.0150],\n",
      "        [ 0.1569,  0.7107],\n",
      "        [-0.0451, -0.0352]])\n"
     ]
    }
   ],
   "source": [
    "#Generating two tensors one with a unifomr dist and the other with\n",
    "# a normal distribution\n",
    "\n",
    "#Setting the manual seed \n",
    "torch.manual_seed(1)\n",
    "t1 = 2*torch.rand([5, 2]) -1\n",
    "t2 = torch.normal(mean=0, std=1, size=(5, 2))\n",
    "\n",
    "#Applying the multiplication operator\n",
    "t3 = torch.multiply(t1, t2)\n",
    "print(t3)"
   ]
  },
  {
   "cell_type": "code",
   "execution_count": 13,
   "metadata": {},
   "outputs": [
    {
     "name": "stdout",
     "output_type": "stream",
     "text": [
      "tensor([[ 0.1312,  0.3860, -0.6267, -1.0096, -0.2943],\n",
      "        [ 0.1647, -0.5310,  0.2434,  0.8035,  0.1980],\n",
      "        [-0.3855, -0.4422,  1.1399,  1.5558,  0.4781],\n",
      "        [ 0.1822, -0.5771,  0.2585,  0.8676,  0.2132],\n",
      "        [ 0.0330,  0.1084, -0.1692, -0.2771, -0.0804]])\n"
     ]
    }
   ],
   "source": [
    "#Some operations cam also be performed on a specific axis of the tensor\n",
    "#Matrix multiplication \n",
    "t_mat = torch.matmul(t1, torch.transpose(t2, 0, 1))\n",
    "print(t_mat)"
   ]
  },
  {
   "cell_type": "code",
   "execution_count": 20,
   "metadata": {},
   "outputs": [
    {
     "name": "stdout",
     "output_type": "stream",
     "text": [
      "tensor([ 0.0251, -0.2112,  0.1692,  0.3881,  0.1030])\n",
      "tensor([ 0.1256, -1.0559,  0.8459,  1.9403,  0.5148])\n"
     ]
    }
   ],
   "source": [
    "#Applying mean, std and sum to a particualr axis of a tensor\n",
    "print(t_mat.mean( axis=0), t_mat.sum(axis=0), sep=\"\\n\")"
   ]
  },
  {
   "cell_type": "code",
   "execution_count": null,
   "metadata": {},
   "outputs": [],
   "source": []
  }
 ],
 "metadata": {
  "kernelspec": {
   "display_name": "Python 3.9.6 64-bit",
   "language": "python",
   "name": "python3"
  },
  "language_info": {
   "codemirror_mode": {
    "name": "ipython",
    "version": 3
   },
   "file_extension": ".py",
   "mimetype": "text/x-python",
   "name": "python",
   "nbconvert_exporter": "python",
   "pygments_lexer": "ipython3",
   "version": "3.9.6"
  },
  "orig_nbformat": 4,
  "vscode": {
   "interpreter": {
    "hash": "aee8b7b246df8f9039afb4144a1f6fd8d2ca17a180786b69acc140d282b71a49"
   }
  }
 },
 "nbformat": 4,
 "nbformat_minor": 2
}
